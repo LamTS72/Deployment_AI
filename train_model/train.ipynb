{
 "cells": [
  {
   "cell_type": "code",
   "execution_count": 1,
   "metadata": {},
   "outputs": [],
   "source": [
    "import torch\n",
    "import torch.nn as nn\n",
    "\n",
    "from PIL import Image\n",
    "from datasets import load_dataset\n",
    "from torch.utils.data import Dataset, DataLoader\n",
    "from torchvision.models import resnet18\n",
    "from torchvision import transforms"
   ]
  },
  {
   "cell_type": "code",
   "execution_count": 2,
   "metadata": {},
   "outputs": [
    {
     "data": {
      "application/vnd.jupyter.widget-view+json": {
       "model_id": "668d22f07d9f4e738b8c1ac238672dbf",
       "version_major": 2,
       "version_minor": 0
      },
      "text/plain": [
       "Downloading readme:   0%|          | 0.00/8.16k [00:00<?, ?B/s]"
      ]
     },
     "metadata": {},
     "output_type": "display_data"
    },
    {
     "data": {
      "application/vnd.jupyter.widget-view+json": {
       "model_id": "bcfa0043285542ec81fb22a7adb7b41f",
       "version_major": 2,
       "version_minor": 0
      },
      "text/plain": [
       "Downloading data:   0%|          | 0.00/330M [00:00<?, ?B/s]"
      ]
     },
     "metadata": {},
     "output_type": "display_data"
    },
    {
     "data": {
      "application/vnd.jupyter.widget-view+json": {
       "model_id": "aa95496c09364728af51c44554ba78a5",
       "version_major": 2,
       "version_minor": 0
      },
      "text/plain": [
       "Downloading data:   0%|          | 0.00/391M [00:00<?, ?B/s]"
      ]
     },
     "metadata": {},
     "output_type": "display_data"
    },
    {
     "data": {
      "application/vnd.jupyter.widget-view+json": {
       "model_id": "16018305bec949ab81d22c3005ecf7b4",
       "version_major": 2,
       "version_minor": 0
      },
      "text/plain": [
       "Generating train split:   0%|          | 0/23410 [00:00<?, ? examples/s]"
      ]
     },
     "metadata": {},
     "output_type": "display_data"
    }
   ],
   "source": [
    "TEST_SIZE=0.2\n",
    "IMG_SIZE = 64\n",
    "NORMALIZE_MEAN = [0.485, 0.456, 0.406]\n",
    "NORMALIZE_STD = [0.229, 0.224, 0.225]\n",
    "DATASET_NAME = \"cats_vs_dogs\"\n",
    "datasets = load_dataset(DATASET_NAME)\n",
    "datasets\n",
    "datasets = datasets[\"train\"].train_test_split(test_size=TEST_SIZE)\n",
    "img_transforms = transforms.Compose(\n",
    "        [\n",
    "                transforms.Resize((IMG_SIZE,IMG_SIZE)),\n",
    "                transforms.Grayscale(),\n",
    "                transforms.ToTensor(),\n",
    "                transforms.Normalize(\n",
    "                        NORMALIZE_MEAN,\n",
    "                        NORMALIZE_STD\n",
    "                )\n",
    "        ]\n",
    ")"
   ]
  },
  {
   "cell_type": "code",
   "execution_count": 3,
   "metadata": {},
   "outputs": [],
   "source": [
    "class CatDogDataset(Dataset):\n",
    "        def __init__(self, data, transform=None):\n",
    "                self.data = data\n",
    "                self.transform = transform\n",
    "\n",
    "        def __len__(self):\n",
    "                return len(self.data)\n",
    "        \n",
    "        def __getitem__(self, idx):\n",
    "                images = self.data[idx][\"image\"]\n",
    "                labels = self.data[idx][\"labels\"]\n",
    "\n",
    "                if self.transform:\n",
    "                        images = self.transform(images)\n",
    "                \n",
    "                labels =torch.tensor(labels, dtype=torch.long)\n",
    "                return images, labels"
   ]
  },
  {
   "cell_type": "code",
   "execution_count": 4,
   "metadata": {},
   "outputs": [],
   "source": [
    "TRAIN_BATCH_SIZE = 512\n",
    "VAL_BATCH_SIZE = 256\n",
    "\n",
    "train_dataset = CatDogDataset(\n",
    "        datasets[\"train\"], transform=img_transforms\n",
    ")\n",
    "\n",
    "test_dataset = CatDogDataset(\n",
    "        datasets[\"test\"], transform=img_transforms\n",
    ")\n",
    "\n",
    "train_loader = DataLoader(\n",
    "        train_dataset,\n",
    "        batch_size=TRAIN_BATCH_SIZE,\n",
    "        shuffle=True\n",
    ")\n",
    "\n",
    "test_loader = DataLoader(\n",
    "        test_dataset,\n",
    "        batch_size=VAL_BATCH_SIZE,\n",
    "        shuffle=False\n",
    ")"
   ]
  },
  {
   "cell_type": "code",
   "execution_count": null,
   "metadata": {},
   "outputs": [],
   "source": [
    "class CatDogModel(nn.Module):\n",
    "        def __init__(self, n_classes):\n",
    "                super(CatDogModel, self).__init__()\n",
    "        \n",
    "                resnet_model = resnet18(weights=\"IMAGENET1K_V1\")\n",
    "                self.backbone = nn.Sequential(*list(resnet_model.children())[:-1])\n",
    "                for param in self.backbone.parameters():\n",
    "                        param.requires_grad = False\n",
    "\n",
    "                in_features = resnet_model.fc.in_features\n",
    "                self.fc = nn.Linear(in_features, n_classes)\n",
    "\n",
    "        def forward(self, x):\n",
    "                x = self.backbone(x)\n",
    "                x = torch.flatten(x)\n",
    "                x = self.fc(x)\n",
    "                return x"
   ]
  },
  {
   "cell_type": "code",
   "execution_count": 5,
   "metadata": {},
   "outputs": [],
   "source": [
    "device  = \"cuda\" if torch.cuda.is_available() else \"cpu\""
   ]
  },
  {
   "cell_type": "code",
   "execution_count": null,
   "metadata": {},
   "outputs": [],
   "source": [
    "N_CLASSES = 2\n",
    "model = CatDogModel(N_CLASSES).to(device)\n",
    "test_input = torch.rand(1,3, 224, 224).to(device)\n",
    "with torch.no_grad():\n",
    "        output = model(test_input)\n",
    "        print(output.shape)"
   ]
  },
  {
   "cell_type": "code",
   "execution_count": null,
   "metadata": {},
   "outputs": [],
   "source": [
    "EPOCHS = 3\n",
    "LR = 1e-3\n",
    "WEIGHT_DECAY = 1e-5\n",
    "\n",
    "optimizer = torch.optim.Adam(model.parameters(), lr=LR, weight_decay=WEIGHT_DECAY)\n",
    "losses= torch.nn.CrossEntropyLoss()\n",
    "\n",
    "for  epoch in range(EPOCHS):\n",
    "        train_losses = []\n",
    "        model.train()\n",
    "        for images, labels in train_loader:\n",
    "                images = images.to(device)\n",
    "                labels = labels.to(device)\n",
    "\n",
    "                outputs = model(images)\n",
    "\n",
    "                optimizer.zero_grad()\n",
    "                loss = losses(outputs, labels)\n",
    "                loss.backward()\n",
    "                optimizer.step()\n",
    "\n",
    "                train_losses.append(loss.item())\n",
    "        \n",
    "        train_loss = sum(train_losses) / len(train_losses)\n",
    "\n",
    "        val_losses = []\n",
    "        model.eval()\n",
    "        with torch.no_grad():\n",
    "                for images, labels in test_loader:\n",
    "                        images = images.to(device)\n",
    "                        labels = labels.to(device)\n",
    "\n",
    "                        outputs = model(images)\n",
    "                        loss = losses(outputs, labels)\n",
    "                        val_losses.append(loss.item())\n",
    "\n",
    "        val_losses = sum(val_losses) / len(val_losses)\n",
    "        print(f\"EPOCH  {epoch+1}: \\tTrain Loss: {train_losses:.3f}\\tValidation Loss: {val_losses:.3f}\")"
   ]
  },
  {
   "cell_type": "code",
   "execution_count": null,
   "metadata": {},
   "outputs": [],
   "source": [
    "SAVE_PATH = \"catdog_weights.pt\"\n",
    "torch.save(model.state_dict(), save_path=SAVE_PATH)"
   ]
  }
 ],
 "metadata": {
  "kernelspec": {
   "display_name": "PyJupyter",
   "language": "python",
   "name": "python3"
  },
  "language_info": {
   "codemirror_mode": {
    "name": "ipython",
    "version": 3
   },
   "file_extension": ".py",
   "mimetype": "text/x-python",
   "name": "python",
   "nbconvert_exporter": "python",
   "pygments_lexer": "ipython3",
   "version": "3.10.9"
  }
 },
 "nbformat": 4,
 "nbformat_minor": 2
}
